{
 "cells": [
  {
   "cell_type": "code",
   "execution_count": 173,
   "metadata": {},
   "outputs": [],
   "source": [
    "import blocksci\n",
    "import matplotlib.pyplot as plt\n",
    "import matplotlib.ticker\n",
    "import collections\n",
    "import pandas as pd\n",
    "import numpy as np\n",
    "from datetime import datetime, timedelta\n",
    "%matplotlib notebook\n",
    "\n",
    "# parser_data_directory should be set to the data-directory which the blocksci_parser output\n",
    "chain = blocksci.Blockchain(\"/blocksci/bitcoin.json\")"
   ]
  },
  {
   "cell_type": "code",
   "execution_count": 174,
   "metadata": {},
   "outputs": [],
   "source": [
    "# of inputs in aggregation : 18 – 25\n",
    "# only one output (aggregated to)\n",
    "# Amount of bitcoin in the big wallet: 15 to 100 (majority)\n",
    "# Time between input transaction and the aggregation transaction: 1 hour\n",
    "# Time between aggregation transaction and it being spent: 1 hour\n",
    "\n",
    "def is_BTC_e(tx):\n",
    "    # ** tx is a TxProxy type, so all of its fields are also proxy, like \n",
    "    # tx.input_count is an intProxy that cannot be compared to an int like\n",
    "    # 18. **\n",
    "    \n",
    "    if (tx.input_count < 18 or tx.input_count > 25): \n",
    "        print(\"Input_count out of range, so false\")\n",
    "        return False\n",
    "    \n",
    "#     print('2')\n",
    "#     print(tx.output_count)\n",
    "    if (tx.output_count != 1):\n",
    "        return False\n",
    "    \n",
    "#     print('3')\n",
    "#     print(tx.output_value/1e8)\n",
    "    val = tx.output_value/1e8\n",
    "    if (val < 15 or val > 100):\n",
    "        return False\n",
    "    \n",
    "#     print('4')\n",
    "    output = tx.outputs[0]\n",
    "#     print(output)\n",
    "    if (not output.is_spent):\n",
    "        return False\n",
    "    \n",
    "#     print('5')\n",
    "    # spent within an hour\n",
    "    time = tx.block_time\n",
    "    delta = output.spending_tx.block_time - time\n",
    "#     print(delta)\n",
    "    if (delta > timedelta(minutes=90)):\n",
    "        return False \n",
    "    \n",
    "    return True\n",
    "    \n",
    "    # aggregated addresses were received within an hour\n",
    "    \n",
    "#     for addr in tx.inputs:\n",
    "#         if (addr.block_t)\n"
   ]
  },
  {
   "cell_type": "code",
   "execution_count": 175,
   "metadata": {},
   "outputs": [],
   "source": [
    "# testing on known transactions \n",
    "true = chain.tx_with_hash(\"c3377cc8f0f6002d5a1bd5e58e7676b495909a789e382577f5e9e09c364d1c89\")\n",
    "false = chain.tx_with_hash(\"2b20ae522e360c64b61a852bb0294ed7a16b5623a47c11919921917546ac0734\")"
   ]
  },
  {
   "cell_type": "code",
   "execution_count": 176,
   "metadata": {},
   "outputs": [
    {
     "name": "stdout",
     "output_type": "stream",
     "text": [
      "True\n",
      "...\n",
      "Input_count out of range, so false\n",
      "False\n"
     ]
    }
   ],
   "source": [
    "print(is_BTC_e(true))\n",
    "print(\"...\")\n",
    "# cast 'true to a txProxy, which is what happens when we run where - so if this works \n",
    "# correctly, then where will work.\n",
    "print(is_BTC_e(blocksci.proxy.TxProxy(true)))"
   ]
  },
  {
   "cell_type": "code",
   "execution_count": 177,
   "metadata": {},
   "outputs": [
    {
     "name": "stdout",
     "output_type": "stream",
     "text": [
      "Input_count out of range, so false\n",
      "False\n",
      "339783916\n"
     ]
    }
   ],
   "source": [
    "print(is_BTC_e(blocksci.proxy.TxProxy(false)))\n",
    "print(false.index)"
   ]
  },
  {
   "cell_type": "code",
   "execution_count": 178,
   "metadata": {},
   "outputs": [],
   "source": [
    "# this is my comparison function that returns a boolProxy, because it's used in 'where'\n",
    "def select_BTC_e(tx):\n",
    "    return blocksci.proxy.boolProxy(is_BTC_e(tx)) & ~tx.is_coinbase\n",
    "#     return is_BTC_e(tx) & ~tx.is_coinbase"
   ]
  },
  {
   "cell_type": "code",
   "execution_count": 179,
   "metadata": {},
   "outputs": [
    {
     "name": "stdout",
     "output_type": "stream",
     "text": [
      "0\n"
     ]
    }
   ],
   "source": [
    "# test, ignore this\n",
    "matches = chain[338950:338960].txes.where(lambda x: x.hash == tx.hash).to_list()\n",
    "print(len(matches))"
   ]
  },
  {
   "cell_type": "code",
   "execution_count": 180,
   "metadata": {
    "scrolled": true
   },
   "outputs": [
    {
     "name": "stdout",
     "output_type": "stream",
     "text": [
      "Input_count out of range, so false\n",
      "0\n",
      "1625\n"
     ]
    }
   ],
   "source": [
    "# btc_e_matches = chain[-557101:].txes.where(select_BTC_e).to_list()\n",
    "# this should return > 1 matches, but currenctly returns 0 since select_BTC_e doesn't wokr\n",
    "# where gives transactions using TxProxy to select_BTC_e\n",
    "btc_e_matches = chain[338957:338960].txes.where(select_BTC_e).to_list()\n",
    "\n",
    "print(len(btc_e_matches))\n",
    "print(len(chain[338957:338960].txes.to_list()))"
   ]
  },
  {
   "cell_type": "code",
   "execution_count": null,
   "metadata": {},
   "outputs": [],
   "source": [
    "# the range of blocks where 1Fs had transactions\n",
    "btc_e_matches = chain[311793:478781].txes.where(select_BTC_e).to_list()\n",
    "\n",
    "print(len(btc_e_matches))\n"
   ]
  },
  {
   "cell_type": "code",
   "execution_count": null,
   "metadata": {},
   "outputs": [],
   "source": []
  },
  {
   "cell_type": "code",
   "execution_count": null,
   "metadata": {},
   "outputs": [],
   "source": []
  }
 ],
 "metadata": {
  "kernelspec": {
   "display_name": "Python 3",
   "language": "python",
   "name": "python3"
  },
  "language_info": {
   "codemirror_mode": {
    "name": "ipython",
    "version": 3
   },
   "file_extension": ".py",
   "mimetype": "text/x-python",
   "name": "python",
   "nbconvert_exporter": "python",
   "pygments_lexer": "ipython3",
   "version": "3.5.2"
  }
 },
 "nbformat": 4,
 "nbformat_minor": 2
}
